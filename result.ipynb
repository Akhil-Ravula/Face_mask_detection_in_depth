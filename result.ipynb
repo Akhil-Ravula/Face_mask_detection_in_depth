{
  "nbformat": 4,
  "nbformat_minor": 0,
  "metadata": {
    "colab": {
      "name": "face_mask_detect.ipynb",
      "provenance": [],
      "collapsed_sections": []
    },
    "kernelspec": {
      "name": "python3",
      "display_name": "Python 3"
    },
    "accelerator": "GPU"
  },
  "cells": [
    {
      "cell_type": "code",
      "metadata": {
        "id": "FPeSY34fwUBN"
      },
      "source": [
        "from tensorflow.keras.models import load_model\r\n",
        "import imutils"
      ],
      "execution_count": null,
      "outputs": []
    },
    {
      "cell_type": "code",
      "metadata": {
        "id": "swxThL6pjmDP"
      },
      "source": [
        "a=testX[56]\r\n",
        "orig = a.copy()\r\n",
        "a = np.expand_dims(a, axis=0)"
      ],
      "execution_count": 80,
      "outputs": []
    },
    {
      "cell_type": "code",
      "metadata": {
        "id": "i1dz-oDrRZI_"
      },
      "source": [
        "mdl = r\"mask_detector.h5\"\r\n",
        "model = load_model(mdl)\r\n",
        "(zero, one,two) = model.predict(a)[0]\r\n",
        "prob = [zero, one,two]"
      ],
      "execution_count": 81,
      "outputs": []
    },
    {
      "cell_type": "code",
      "metadata": {
        "colab": {
          "base_uri": "https://localhost:8080/"
        },
        "id": "M48ue7kIkJzH",
        "outputId": "c77c36b8-13db-4393-90af-b55f1ba78081"
      },
      "source": [
        "#for printing the result\r\n",
        "val = max(prob)\r\n",
        "ind = prob.index(val)\r\n",
        "if ind == 0:\r\n",
        "  print(\"Person with N95_mask\\n**** Safe to Enter ****\")\r\n",
        "elif ind == 1:\r\n",
        "  print(\"Person With mask (Not N95)\\n**** Should not Enter ****\")\r\n",
        "else:\r\n",
        "  print(\"Person Without mask\\n**** Should not Enter ****\")"
      ],
      "execution_count": 94,
      "outputs": [
        {
          "output_type": "stream",
          "text": [
            "Person with N95_mask\n",
            "**** Safe to Enter ****\n"
          ],
          "name": "stdout"
        }
      ]
    },
    {
      "cell_type": "code",
      "metadata": {
        "id": "WYfDAWB6oGls"
      },
      "source": [
        "a=testX[244]\r\n",
        "orig = a.copy()\r\n",
        "a = np.expand_dims(a, axis=0)"
      ],
      "execution_count": 95,
      "outputs": []
    },
    {
      "cell_type": "code",
      "metadata": {
        "id": "Ud8Lu5y5oP9-"
      },
      "source": [
        "mdl = r\"mask_detector.h5\"\r\n",
        "model = load_model(mdl)\r\n",
        "(zero, one,two) = model.predict(a)[0]\r\n",
        "prob = [zero, one,two]"
      ],
      "execution_count": null,
      "outputs": []
    },
    {
      "cell_type": "code",
      "metadata": {
        "colab": {
          "base_uri": "https://localhost:8080/"
        },
        "id": "30n6Zc7uoT8b",
        "outputId": "808000ad-d4ed-425e-f489-b3858407d688"
      },
      "source": [
        "#for printing the result\r\n",
        "val = max(prob)\r\n",
        "ind = prob.index(val)\r\n",
        "if ind == 0:\r\n",
        "  print(\"Person with N95_mask\\n**** Safe to Enter ****\")\r\n",
        "elif ind == 1:\r\n",
        "  print(\"Person With mask (Not N95)\\n**** Should not Enter ****\")\r\n",
        "else:\r\n",
        "  print(\"Person Without mask\\n**** Should not Enter ****\")"
      ],
      "execution_count": 98,
      "outputs": [
        {
          "output_type": "stream",
          "text": [
            "Person With mask (Not N95)\n",
            "**** Should not Enter ****\n"
          ],
          "name": "stdout"
        }
      ]
    },
    {
      "cell_type": "code",
      "metadata": {
        "id": "ANWufvLvpGfK"
      },
      "source": [
        "a=testX[358]\r\n",
        "orig = a.copy()\r\n",
        "a = np.expand_dims(a, axis=0)"
      ],
      "execution_count": 102,
      "outputs": []
    },
    {
      "cell_type": "code",
      "metadata": {
        "id": "yVkPGwR4pWlR"
      },
      "source": [
        "mdl = r\"mask_detector.h5\"\r\n",
        "model = load_model(mdl)\r\n",
        "(zero, one,two) = model.predict(a)[0]\r\n",
        "prob = [zero, one,two]"
      ],
      "execution_count": null,
      "outputs": []
    },
    {
      "cell_type": "code",
      "metadata": {
        "colab": {
          "base_uri": "https://localhost:8080/"
        },
        "id": "NwNX5nDnpa0G",
        "outputId": "f252cc38-57b7-4a98-f799-5493461fc07d"
      },
      "source": [
        "#for printing the result\r\n",
        "val = max(prob)\r\n",
        "ind = prob.index(val)\r\n",
        "if ind == 0:\r\n",
        "  print(\"Person with N95_mask\\n**** Safe to Enter ****\")\r\n",
        "elif ind == 1:\r\n",
        "  print(\"Person With mask (Not N95)\\n**** Should not Enter ****\")\r\n",
        "else:\r\n",
        "  print(\"Person Without mask\\n**** Should not Enter ****\")"
      ],
      "execution_count": 104,
      "outputs": [
        {
          "output_type": "stream",
          "text": [
            "Person Without mask\n",
            "**** Should not Enter ****\n"
          ],
          "name": "stdout"
        }
      ]
    }
  ]
}